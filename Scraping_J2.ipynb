{
 "cells": [
  {
   "cell_type": "markdown",
   "id": "40da766d",
   "metadata": {},
   "source": [
    "# scraping chaussures "
   ]
  },
  {
   "cell_type": "markdown",
   "id": "567c5666",
   "metadata": {},
   "source": [
    "<a> https://www.terrederunning.com/ </a> "
   ]
  },
  {
   "cell_type": "code",
   "execution_count": 35,
   "id": "c57b2fb4",
   "metadata": {},
   "outputs": [],
   "source": [
    "# import\n",
    "import pandas as pd\n",
    "import requests\n",
    "from bs4 import BeautifulSoup"
   ]
  },
  {
   "cell_type": "code",
   "execution_count": 101,
   "id": "3189d045",
   "metadata": {},
   "outputs": [],
   "source": [
    "url = \"https://www.terrederunning.com/19-chaussures-running-femme\"\n",
    "r = requests.get(url)"
   ]
  },
  {
   "cell_type": "code",
   "execution_count": 109,
   "id": "75cb1fc4",
   "metadata": {},
   "outputs": [],
   "source": [
    "html = r.content"
   ]
  },
  {
   "cell_type": "code",
   "execution_count": 110,
   "id": "c4c593e4",
   "metadata": {},
   "outputs": [],
   "source": [
    "soup = BeautifulSoup(r.content, \"html.parser\")\n",
    "# r.text est le contenu de la reponse en Unicode et r.content est le contenu de la reponse en octects"
   ]
  },
  {
   "cell_type": "code",
   "execution_count": 111,
   "id": "32b57400",
   "metadata": {},
   "outputs": [],
   "source": [
    "# Je recupere le nom de la chaussure\n",
    "temp1 = soup.find('section', {\"id\": \"products\"}).find('h2', class_='product-title').text\n",
    "name = temp1 "
   ]
  },
  {
   "cell_type": "code",
   "execution_count": 112,
   "id": "aa7505cb",
   "metadata": {},
   "outputs": [],
   "source": [
    "# Je recuoere la marque de la chaussure\n",
    "temp2 = soup.find('div', class_='product-brand').find('span').text\n",
    "brand=temp2"
   ]
  },
  {
   "cell_type": "code",
   "execution_count": 113,
   "id": "d225226f",
   "metadata": {},
   "outputs": [
    {
     "data": {
      "text/plain": [
       "150.0"
      ]
     },
     "execution_count": 113,
     "metadata": {},
     "output_type": "execute_result"
    }
   ],
   "source": [
    "# Je recupere le prix de la chaussure\n",
    "temp3 = soup.find('div', class_='product-price-and-shipping').find('span', class_='price').text\n",
    "price = float(temp3[0:6].replace(',','.'))\n",
    "price"
   ]
  },
  {
   "cell_type": "code",
   "execution_count": 166,
   "id": "5ca31897",
   "metadata": {},
   "outputs": [],
   "source": [
    "# Recuperer la liste des chaussures\n",
    "i=1\n",
    "woman_running_shoes = []\n",
    "\n",
    "for i in range(1,16):\n",
    "    url2 = f'({url}?page={i}'\n",
    "    for shoes in soup.find_all('div', class_='product-description') :\n",
    "        name = shoes.find('h2', class_='product-title').text\n",
    "        brand = shoes.find('div', class_='product-brand').find('span').text\n",
    "        price = shoes.find('div', class_='product-price-and-shipping').find('span', class_='price').text\n",
    "        price = float(price[0:6].replace(',','.'))\n",
    "    \n",
    "        dict_ = {'name': name,\n",
    "                'brand': brand,\n",
    "                'price': price,}\n",
    "    \n",
    "        woman_running_shoes.append(dict_)\n"
   ]
  },
  {
   "cell_type": "code",
   "execution_count": 167,
   "id": "47d9f7cf",
   "metadata": {},
   "outputs": [],
   "source": [
    " df_shoes = pd.DataFrame(woman_running_shoes)"
   ]
  },
  {
   "cell_type": "code",
   "execution_count": 199,
   "id": "137594cc",
   "metadata": {},
   "outputs": [
    {
     "data": {
      "text/html": [
       "<div>\n",
       "<style scoped>\n",
       "    .dataframe tbody tr th:only-of-type {\n",
       "        vertical-align: middle;\n",
       "    }\n",
       "\n",
       "    .dataframe tbody tr th {\n",
       "        vertical-align: top;\n",
       "    }\n",
       "\n",
       "    .dataframe thead th {\n",
       "        text-align: right;\n",
       "    }\n",
       "</style>\n",
       "<table border=\"1\" class=\"dataframe\">\n",
       "  <thead>\n",
       "    <tr style=\"text-align: right;\">\n",
       "      <th></th>\n",
       "      <th>name</th>\n",
       "      <th>brand</th>\n",
       "      <th>price</th>\n",
       "    </tr>\n",
       "  </thead>\n",
       "  <tbody>\n",
       "    <tr>\n",
       "      <th>0</th>\n",
       "      <td>Ghost 15 W</td>\n",
       "      <td>BROOKS</td>\n",
       "      <td>150.0</td>\n",
       "    </tr>\n",
       "    <tr>\n",
       "      <th>1</th>\n",
       "      <td>Adrenaline Gts 22 W</td>\n",
       "      <td>BROOKS</td>\n",
       "      <td>150.0</td>\n",
       "    </tr>\n",
       "    <tr>\n",
       "      <th>2</th>\n",
       "      <td>Velocity Nitro 2 W</td>\n",
       "      <td>PUMA</td>\n",
       "      <td>120.0</td>\n",
       "    </tr>\n",
       "    <tr>\n",
       "      <th>3</th>\n",
       "      <td>Wave Rider 26 W</td>\n",
       "      <td>MIZUNO</td>\n",
       "      <td>160.0</td>\n",
       "    </tr>\n",
       "    <tr>\n",
       "      <th>4</th>\n",
       "      <td>Glycerin 20 W</td>\n",
       "      <td>BROOKS</td>\n",
       "      <td>180.0</td>\n",
       "    </tr>\n",
       "    <tr>\n",
       "      <th>...</th>\n",
       "      <td>...</td>\n",
       "      <td>...</td>\n",
       "      <td>...</td>\n",
       "    </tr>\n",
       "    <tr>\n",
       "      <th>175</th>\n",
       "      <td>Magnify Nitro Knit W</td>\n",
       "      <td>PUMA</td>\n",
       "      <td>140.0</td>\n",
       "    </tr>\n",
       "    <tr>\n",
       "      <th>176</th>\n",
       "      <td>Adrenaline Gts 22 W</td>\n",
       "      <td>BROOKS</td>\n",
       "      <td>150.0</td>\n",
       "    </tr>\n",
       "    <tr>\n",
       "      <th>177</th>\n",
       "      <td>Velocity Nitro 2 W</td>\n",
       "      <td>PUMA</td>\n",
       "      <td>120.0</td>\n",
       "    </tr>\n",
       "    <tr>\n",
       "      <th>178</th>\n",
       "      <td>Wave Inspire 18 W</td>\n",
       "      <td>MIZUNO</td>\n",
       "      <td>150.0</td>\n",
       "    </tr>\n",
       "    <tr>\n",
       "      <th>179</th>\n",
       "      <td>Guide 15 W</td>\n",
       "      <td>SAUCONY</td>\n",
       "      <td>150.0</td>\n",
       "    </tr>\n",
       "  </tbody>\n",
       "</table>\n",
       "<p>180 rows × 3 columns</p>\n",
       "</div>"
      ],
      "text/plain": [
       "                     name    brand  price\n",
       "0              Ghost 15 W   BROOKS  150.0\n",
       "1     Adrenaline Gts 22 W   BROOKS  150.0\n",
       "2      Velocity Nitro 2 W     PUMA  120.0\n",
       "3         Wave Rider 26 W   MIZUNO  160.0\n",
       "4           Glycerin 20 W   BROOKS  180.0\n",
       "..                    ...      ...    ...\n",
       "175  Magnify Nitro Knit W     PUMA  140.0\n",
       "176   Adrenaline Gts 22 W   BROOKS  150.0\n",
       "177    Velocity Nitro 2 W     PUMA  120.0\n",
       "178     Wave Inspire 18 W   MIZUNO  150.0\n",
       "179            Guide 15 W  SAUCONY  150.0\n",
       "\n",
       "[180 rows x 3 columns]"
      ]
     },
     "execution_count": 199,
     "metadata": {},
     "output_type": "execute_result"
    }
   ],
   "source": [
    "df_shoes"
   ]
  }
 ],
 "metadata": {
  "kernelspec": {
   "display_name": "Python 3 (ipykernel)",
   "language": "python",
   "name": "python3"
  },
  "language_info": {
   "codemirror_mode": {
    "name": "ipython",
    "version": 3
   },
   "file_extension": ".py",
   "mimetype": "text/x-python",
   "name": "python",
   "nbconvert_exporter": "python",
   "pygments_lexer": "ipython3",
   "version": "3.8.12"
  },
  "toc": {
   "base_numbering": 1,
   "nav_menu": {},
   "number_sections": true,
   "sideBar": true,
   "skip_h1_title": false,
   "title_cell": "Table of Contents",
   "title_sidebar": "Contents",
   "toc_cell": false,
   "toc_position": {},
   "toc_section_display": true,
   "toc_window_display": false
  }
 },
 "nbformat": 4,
 "nbformat_minor": 5
}
